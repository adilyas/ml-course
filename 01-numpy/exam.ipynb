{
 "cells": [
  {
   "cell_type": "code",
   "execution_count": null,
   "id": "165f0f6e-9a80-49f1-a936-2203ce1eeb8d",
   "metadata": {},
   "outputs": [],
   "source": [
    "import numpy as np"
   ]
  },
  {
   "cell_type": "markdown",
   "id": "b845a623-5d18-43d2-bded-7bbb55797c5a",
   "metadata": {},
   "source": [
    "### Задание 1 (1 балл)\n",
    "\n",
    "Создайте двумерный `numpy` массив размерности $4\\times5$ из возрастающих чисел(арифметическая прогрессия с шагом 1 и началом 1).\n",
    "\n",
    "Пример: `[[1, 2, 3], [4, 5, 6]]`"
   ]
  },
  {
   "cell_type": "code",
   "execution_count": null,
   "id": "230a3e07-1af4-4842-9d1d-b9cf34b8ffcf",
   "metadata": {},
   "outputs": [],
   "source": [
    "#############\n",
    "# YOUR CODE #\n",
    "#############"
   ]
  },
  {
   "cell_type": "markdown",
   "id": "83e23b5c-57fb-4999-b254-c37b978b2fe1",
   "metadata": {},
   "source": [
    "### Задание 2 (1 балл)\n",
    "\n",
    "Дана выборка, посчитайте ее дисперсию."
   ]
  },
  {
   "cell_type": "code",
   "execution_count": null,
   "id": "85192b52-5880-4301-8112-fcb42b68fb18",
   "metadata": {},
   "outputs": [],
   "source": [
    "x = np.random.normal(loc=5, scale=10, size=100)\n",
    "\n",
    "#############\n",
    "# YOUR CODE #\n",
    "#############"
   ]
  },
  {
   "cell_type": "markdown",
   "id": "054f2318-3533-42f8-a4e6-ac7fbc8f4d84",
   "metadata": {},
   "source": [
    "### Задание 3 (1 балл)\n",
    "\n",
    "Даны 4 матрицы, перемножте их в правильном порядке, чтобы получить матрицу $n \\times m$. Матрицы можно транспонировать, по-другому модифицировать их нельзя."
   ]
  },
  {
   "cell_type": "code",
   "execution_count": null,
   "id": "50f43d76-8138-46c1-a0f2-e87b29ee0764",
   "metadata": {},
   "outputs": [],
   "source": [
    "n, m, k, r, p = 11, 12, 13, 14, 15\n",
    "\n",
    "a = np.ones((k, r))\n",
    "b = np.ones((m, p))\n",
    "c = np.ones((k, n))\n",
    "d = np.ones((p, r))"
   ]
  },
  {
   "cell_type": "code",
   "execution_count": null,
   "id": "b86c37ae-29d4-4767-b171-d931f5347737",
   "metadata": {},
   "outputs": [],
   "source": [
    "result = # YOUR CODE #"
   ]
  },
  {
   "cell_type": "code",
   "execution_count": null,
   "id": "e332736b-3b34-4158-88c6-3f4381441317",
   "metadata": {},
   "outputs": [],
   "source": [
    "assert result.shape == (n, m)"
   ]
  },
  {
   "cell_type": "markdown",
   "id": "780565ea-c054-4716-9449-2764cd88a76f",
   "metadata": {},
   "source": [
    "### Задание 4\n",
    "\n",
    "\n",
    "Вам дана выборка $X$ из 100 объектов, каждый из которых имеет 10 численных признаков - матрица размерности $100\\times10$. "
   ]
  },
  {
   "cell_type": "code",
   "execution_count": null,
   "id": "9112a760-d15a-44f9-a105-f3bbb5976d5b",
   "metadata": {},
   "outputs": [],
   "source": [
    "X = np.random.normal(loc=5, scale=10, size=(100, 10))"
   ]
  },
  {
   "cell_type": "markdown",
   "id": "b0fcab17-5f05-47b8-9c17-6351576329f5",
   "metadata": {},
   "source": [
    "#### 4.1 (1 балл)\n",
    "\n",
    "Посчитайте минимумы и максимумы по всем признакам"
   ]
  },
  {
   "cell_type": "code",
   "execution_count": null,
   "id": "0d537761-8078-41ce-b626-b656f50a8a25",
   "metadata": {},
   "outputs": [],
   "source": [
    "#############\n",
    "# YOUR CODE #\n",
    "#############"
   ]
  },
  {
   "cell_type": "markdown",
   "id": "097a8afd-5fd7-4708-9c9c-22c6f9fe4858",
   "metadata": {},
   "source": [
    "#### 4.2 (1 балл)\n",
    "\n",
    "Посчитайте среднее по всем признакам"
   ]
  },
  {
   "cell_type": "code",
   "execution_count": null,
   "id": "39fa226c-13e0-4541-996c-c2307138fbdb",
   "metadata": {},
   "outputs": [],
   "source": [
    "#############\n",
    "# YOUR CODE #\n",
    "#############"
   ]
  },
  {
   "cell_type": "markdown",
   "id": "7e595df9-25f2-4683-8963-1b65546781fd",
   "metadata": {},
   "source": [
    "#### 4.3 (3 балла)\n",
    "\n",
    "Вам дан вектор весов $w$. Посчитайте для каждого объекта взвешенную сумму признаков.\n",
    "\n",
    "**Hint: Вы должны получить вектор размерности 100**"
   ]
  },
  {
   "cell_type": "code",
   "execution_count": null,
   "id": "818bc939-09d2-4167-958d-6d919f3cdb10",
   "metadata": {},
   "outputs": [],
   "source": [
    "w = np.random.randn(10)"
   ]
  },
  {
   "cell_type": "code",
   "execution_count": null,
   "id": "f9f290c8-1f23-420f-a3b0-e56a88a2f193",
   "metadata": {},
   "outputs": [],
   "source": [
    "result = # YOUR CODE #"
   ]
  },
  {
   "cell_type": "code",
   "execution_count": null,
   "id": "a27d3465-41f8-4f79-8160-db6194f1bcfa",
   "metadata": {},
   "outputs": [],
   "source": [
    "def weighted_sum_vanilla_python(X, w):\n",
    "    result = np.zeros(X.shape[0])\n",
    "    for i in range(X.shape[0]):\n",
    "        for j in range(X.shape[1]):\n",
    "            result[i] += X[i, j] * w[j]\n",
    "    return result"
   ]
  },
  {
   "cell_type": "code",
   "execution_count": null,
   "id": "4c2d1dae-2c60-479a-a617-432ea39a3c5f",
   "metadata": {},
   "outputs": [],
   "source": [
    "vanilla_python_result = weighted_sum_vanilla_python(X, w)\n",
    "\n",
    "np.testing.assert_array_almost_equal(result, vanilla_python_result)"
   ]
  },
  {
   "cell_type": "markdown",
   "id": "fc19c900-a56a-42eb-b7bc-93f4e98747b4",
   "metadata": {},
   "source": [
    "### Задание 5\n",
    "\n",
    "\n",
    "Вам дана выборка $X$ из 100 объектов, каждый из которых имеет 10 численных признаков - матрица размерности $100\\times10$. "
   ]
  },
  {
   "cell_type": "markdown",
   "id": "85b07fd1-7edd-47e2-8a42-e532f0c94164",
   "metadata": {},
   "source": [
    "Даны два набора точек $X$ размерности ($n\\times2$) и $Y$ размерности ($m\\times2$). Посчитайте попарные евклидовые расстояния между ними. В результате должна получиться матрца размерности ($n\\times m$)\n",
    "\n",
    "Евклидово расстояние между двумя точками $p_1 = (x_1, y_1)$ и $p_2 = (x_2, y_2)$ считается по следующей формуле:\n",
    "$$\n",
    "L_2(p_1, p_2) = \\sqrt{(x_1 - x_2)^2 + (y_1 - y_2)^2}\n",
    "$$"
   ]
  },
  {
   "cell_type": "code",
   "execution_count": null,
   "id": "e695103c-cf86-474d-b7df-9b79197e2507",
   "metadata": {},
   "outputs": [],
   "source": [
    "n, m = 7, 10\n",
    "\n",
    "X = np.random.normal(loc=0, scale=5, size=(n, 2))\n",
    "Y = np.random.normal(loc=0, scale=5, size=(m, 2))"
   ]
  },
  {
   "cell_type": "markdown",
   "id": "e6240a93-fbd8-490f-9e29-ee2d920e00cd",
   "metadata": {},
   "source": [
    "#### 5.1 (1 балл)\n",
    "\n",
    "Решите задачу ровно двумя циклами"
   ]
  },
  {
   "cell_type": "code",
   "execution_count": null,
   "id": "e0a107d3-5fee-4122-a5cd-1367ad672202",
   "metadata": {},
   "outputs": [],
   "source": [
    "def compute_distances_two_loops(X, Y):\n",
    "    #############\n",
    "    # YOUR CODE #\n",
    "    #############\n",
    "    pass"
   ]
  },
  {
   "cell_type": "markdown",
   "id": "c9e74b40-5539-4f17-9933-e71b7ae1196b",
   "metadata": {},
   "source": [
    "#### 5.2 (2 балла)\n",
    "\n",
    "Решите задачу ровно одним циклом. **Обратите внимание: для получения баллов за эту подзадачу необходимо решить подзадачу 5.1**"
   ]
  },
  {
   "cell_type": "code",
   "execution_count": null,
   "id": "1a065d4d-7cd3-48f2-9912-4ef911a55298",
   "metadata": {},
   "outputs": [],
   "source": [
    "def compute_distances_one_loop(X, Y):\n",
    "    #############\n",
    "    # YOUR CODE #\n",
    "    #############\n",
    "    pass"
   ]
  },
  {
   "cell_type": "code",
   "execution_count": null,
   "id": "9db50e31-3aed-4535-a8c1-7fa14c90ed59",
   "metadata": {},
   "outputs": [],
   "source": [
    "np.testing.assert_almost_equal(\n",
    "    compute_distances_two_loops(X, Y),\n",
    "    compute_distances_one_loop(X, Y),\n",
    ")"
   ]
  },
  {
   "cell_type": "markdown",
   "id": "28178dcb-e7cf-4302-81af-12391ea453d8",
   "metadata": {},
   "source": [
    "#### 5.3 (3 балла)\n",
    "\n",
    "Решите задачу без циклов. **Обратите внимание: для получения баллов за эту подзадачу необходимо решить подзадачу 5.1**"
   ]
  },
  {
   "cell_type": "code",
   "execution_count": null,
   "id": "70b7baee-d057-4bcf-9147-90233aac4bca",
   "metadata": {},
   "outputs": [],
   "source": [
    "def compute_distances_pure_numpy(X, Y):\n",
    "    #############\n",
    "    # YOUR CODE #\n",
    "    #############\n",
    "    pass"
   ]
  },
  {
   "cell_type": "code",
   "execution_count": null,
   "id": "9de68af4-4f25-4ae4-a0de-62e66fb46c51",
   "metadata": {
    "tags": []
   },
   "outputs": [],
   "source": [
    "np.testing.assert_almost_equal(\n",
    "    compute_distances_two_loops(X, Y),\n",
    "    compute_distances_pure_numpy(X, Y),\n",
    ")"
   ]
  }
 ],
 "metadata": {
  "kernelspec": {
   "display_name": "Python 3 (ipykernel)",
   "language": "python",
   "name": "python3"
  },
  "language_info": {
   "codemirror_mode": {
    "name": "ipython",
    "version": 3
   },
   "file_extension": ".py",
   "mimetype": "text/x-python",
   "name": "python",
   "nbconvert_exporter": "python",
   "pygments_lexer": "ipython3",
   "version": "3.9.6"
  }
 },
 "nbformat": 4,
 "nbformat_minor": 5
}
